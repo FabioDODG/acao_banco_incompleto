{
 "cells": [
  {
   "cell_type": "code",
   "execution_count": 4,
   "id": "587cf77c",
   "metadata": {},
   "outputs": [],
   "source": [
    "                                        ##web-scrapping de ações \n",
    "#importando bibliotecas de conexão web\n",
    "\n",
    "from selenium import webdriver\n",
    "from selenium.webdriver.common.keys import Keys\n",
    "from selenium.webdriver.common.by import By\n",
    "import win32com.client as win32 \n",
    "import pyautogui as pya\n",
    "import pyperclip as pyc\n"
   ]
  },
  {
   "cell_type": "code",
   "execution_count": 5,
   "id": "9fc91b00",
   "metadata": {},
   "outputs": [],
   "source": [
    "#criando conexão com navegador\n",
    "#pesquisando os sites dos bancos e pegando os valores atuais das ações\n",
    "\n",
    "driver= webdriver.Firefox()\n",
    "\n",
    "pesquisa_banco_brasil = driver.get('https://www.google.com/search?client=firefox-b-d&q=a%C3%A7%C3%A3o+banco+do+brasil')\n",
    "acao_banco_brasil = driver.find_element(By.XPATH, '/html/body/div[7]/div/div[11]/div[2]/div[2]/div[2]/div/div/div/div/div/div/div[2]/div[2]/div[2]/div/div/div/div/div/div[3]/g-card-section/div/g-card-section/div[2]/div[1]/span[1]/span/span[1]').get_attribute('data-value')\n",
    "\n",
    "pesquisa_banco_santander = driver.get('https://www.google.com/search?q=a%C3%A7%C3%A3o+banco+santander&client=firefox-b-d&sxsrf=AJOqlzV8UXtUDRmiV-9HQJFHrZknwzpw9Q%3A1677670732273&ei=TDn_Y4mwEOTU1sQPye2piAM&oq=a%C3%A7%C3%A3o+banco+san&gs_lcp=Cgxnd3Mtd2l6LXNlcnAQARgAMgoIABCABBBGEPoBMgYIABAWEB4yBggAEBYQHjIGCAAQFhAeMgYIABAWEB4yBggAEBYQHjIGCAAQFhAeMgYIABAWEB4yBggAEBYQHjIGCAAQFhAeOgoIABBHENYEELADOgcIABCwAxBDOgcIIxDqAhAnOg0ILhDHARDRAxDqAhAnOgwIABDqAhC0AhBDGAE6DAgjECcQnQIQRhD6AToGCCMQJxATOgQIABBDOgoIABCxAxCDARBDOggIABCABBCxAzoLCAAQgAQQsQMQgwE6BQgAEIAEOgsIABAWEB4Q8QQQCkoECEEYAFCv4AtYhPYLYMyDDGgCcAF4AIAB6gKIAfIWkgEHMC43LjUuMpgBAKABAbABFMgBCsABAdoBBggBEAEYAQ&sclient=gws-wiz-serp#cobssid=s')\n",
    "acao_banco_santander = driver.find_element(By.XPATH,'/html/body/div[7]/div/div[11]/div[2]/div[2]/div[2]/div/div/div/div/div/div/div[2]/div[2]/div[2]/div/div/div/div/div/div[3]/g-card-section/div/g-card-section/div[2]/div[1]/span[1]/span/span[1]').get_attribute('data-value')\n",
    "\n",
    "pesquisa_banco_bradesco = driver.get('https://www.google.com/search?client=firefox-b-d&q=a%C3%A7%C3%A3o+banco+bradesco')\n",
    "acao_banco_bradesco = driver.find_element(By.XPATH,'/html/body/div[7]/div/div[11]/div[2]/div[2]/div[2]/div/div/div/div/div/div/div[2]/div[2]/div[2]/div/div/div/div/div/div[3]/g-card-section/div/g-card-section/div[2]/div[1]/span[1]/span/span[1]').get_attribute('data-value')\n",
    "\n",
    "pesquisa_banco_itau = driver.get('https://www.google.com/search?q=a%C3%A7%C3%A3o+banco+itau&client=firefox-b-d&sxsrf=AJOqlzXNm6VS7W4pGmLWjZ1uhFmTaGm4eg%3A1677671097438&ei=uTr_Y46xGobr1sQPst-v6A8&ved=0ahUKEwjO8b_u07r9AhWGtZUCHbLvC_0Q4dUDCA4&uact=5&oq=a%C3%A7%C3%A3o+banco+itau&gs_lcp=Cgxnd3Mtd2l6LXNlcnAQAzIKCAAQgAQQRhD6ATIGCAAQFhAeMgYIABAWEB4yBggAEBYQHjIGCAAQFhAeMgYIABAWEB4yBggAEBYQHjIGCAAQFhAeMgYIABAWEB4yBggAEBYQHjoKCAAQRxDWBBCwAzoHCAAQsAMQQzoMCCMQJxCdAhBGEPoBOgUIABCABDoLCAAQFhAeEPEEEAo6BAgjECdKBAhBGABQ3wVYzBlg0h5oAXABeAGAAc4CiAHeD5IBCDAuMTAuMS4xmAEAoAEByAEKwAEB&sclient=gws-wiz-serp')\n",
    "acao_banco_itau = driver.find_element(By.XPATH,'/html/body/div[7]/div/div[11]/div[2]/div[2]/div[2]/div/div/div/div/div/div/div[2]/div[2]/div[2]/div/div/div/div/div/div[3]/g-card-section/div/g-card-section/div[2]/div[1]/span[1]/span/span[1]').get_attribute('data-value')\n"
   ]
  },
  {
   "cell_type": "code",
   "execution_count": 6,
   "id": "94f76cec",
   "metadata": {},
   "outputs": [
    {
     "name": "stdout",
     "output_type": "stream",
     "text": [
      "{'Banco do Brasil': None, 'Banco Santander': None, 'Banco Bradesco': None, 'Banco Itaú': None}\n"
     ]
    }
   ],
   "source": [
    "#juntando as ações em dicionario ordenado para melhor vizualização\n",
    "\n",
    "dic_acoes = {'Banco do Brasil': acao_banco_brasil, 'Banco Santander': acao_banco_santander, 'Banco Bradesco' : acao_banco_bradesco, 'Banco Itaú': acao_banco_itau}\n",
    "print(dic_acoes)\n"
   ]
  },
  {
   "cell_type": "code",
   "execution_count": 7,
   "id": "af2c014a",
   "metadata": {},
   "outputs": [
    {
     "name": "stdout",
     "output_type": "stream",
     "text": [
      "\n",
      "Para investir no Banco do Brasil, digite 'BB'.\n",
      "Para investir no Banco Santander, digite 'BS'.\n",
      "Para investir no Banco Bradesco, digite 'BD'.\n",
      "Para investir no Banco Itaú, digite 'BI'.\n",
      "\n",
      "Digite aqui sua escolha: bI\n"
     ]
    }
   ],
   "source": [
    "#escolha do usuário com relação a qual banco lhe interessa investir\n",
    "\n",
    "print(\"\"\"\n",
    "Para investir no Banco do Brasil, digite 'BB'.\n",
    "Para investir no Banco Santander, digite 'BS'.\n",
    "Para investir no Banco Bradesco, digite 'BD'.\n",
    "Para investir no Banco Itaú, digite 'BI'.\n",
    "\"\"\")\n",
    "\n",
    "escolha = input('Digite aqui sua escolha: ').upper()\n",
    "if escolha == 'BB':\n",
    "    pya.hotkey('ctrl', 't')\n",
    "    pyc.copy('https://www.bb.com.br/site/investimentos/?gclid=CjwKCAiAjPyfBhBMEiwAB2CCIuPmnZh1s1PUBDxlN2gcmueKYv7R7JG2rZEa32fSJbcHz7CFi30qzRoC8c0QAvD_BwE')\n",
    "    pya.hotkey('ctrl', 'v')\n",
    "    pya.press('enter')\n",
    "    \n",
    "elif escolha == 'BS':\n",
    "    pya.hotkey('ctrl', 't')\n",
    "    pyc.copy('https://www.santander.com.br/investimentos-para-voce')\n",
    "    pya.hotkey('ctrl', 'v')\n",
    "    pya.press('enter')\n",
    "  \n",
    "elif escolha == 'BD':\n",
    "    pya.hotkey('ctrl', 't')\n",
    "    pyc.copy('https://banco.bradesco/html/exclusive/produtos-servicos/investimentos/index.shtm')\n",
    "    pya.hotkey('ctrl', 'v')\n",
    "    pya.press('enter')\n",
    "    \n",
    "elif escolha =='BI':\n",
    "    pya.hotkey('ctrl', 't')\n",
    "    pyc.copy('https://www.itau.com.br/investimentos')\n",
    "    pya.hotkey('ctrl', 'v')\n",
    "    pya.press('enter')\n",
    "    \n",
    "else:\n",
    "    print('Digite corretamente o nome do banco desejado.')"
   ]
  },
  {
   "cell_type": "code",
   "execution_count": null,
   "id": "0077caef",
   "metadata": {},
   "outputs": [],
   "source": []
  }
 ],
 "metadata": {
  "kernelspec": {
   "display_name": "Python 3 (ipykernel)",
   "language": "python",
   "name": "python3"
  },
  "language_info": {
   "codemirror_mode": {
    "name": "ipython",
    "version": 3
   },
   "file_extension": ".py",
   "mimetype": "text/x-python",
   "name": "python",
   "nbconvert_exporter": "python",
   "pygments_lexer": "ipython3",
   "version": "3.9.12"
  }
 },
 "nbformat": 4,
 "nbformat_minor": 5
}
